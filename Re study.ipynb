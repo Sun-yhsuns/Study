{
 "cells": [
  {
   "cell_type": "code",
   "execution_count": 1,
   "metadata": {},
   "outputs": [],
   "source": [
    "import re"
   ]
  },
  {
   "cell_type": "code",
   "execution_count": 5,
   "metadata": {},
   "outputs": [
    {
     "name": "stdout",
     "output_type": "stream",
     "text": [
      "<re.Match object; span=(0, 6), match='python'>\n"
     ]
    }
   ],
   "source": [
    "# match 는 문자열 처음부터 정규식과 매치되는지 조사한다\n",
    "p = re.compile('[a-z]+')\n",
    "m = p.match('python')\n",
    "print(m)"
   ]
  },
  {
   "cell_type": "code",
   "execution_count": 6,
   "metadata": {},
   "outputs": [
    {
     "name": "stdout",
     "output_type": "stream",
     "text": [
      "None\n"
     ]
    }
   ],
   "source": [
    "p = re.compile('[a-z]+')\n",
    "m = p.match('3python')\n",
    "print(m)"
   ]
  },
  {
   "cell_type": "code",
   "execution_count": 42,
   "metadata": {},
   "outputs": [
    {
     "name": "stdout",
     "output_type": "stream",
     "text": [
      "<re.Match object; span=(2, 8), match='python'>\n"
     ]
    }
   ],
   "source": [
    "# search는 첫문자는 3이지만 처음부터 검색하는것이 아니라 문자열 전체를 검색하기 때문에 \n",
    "# 3이후 python과 매치된다.\n",
    "p = re.compile('[a-z]+')\n",
    "m = p.search('3 python')\n",
    "print(m)"
   ]
  },
  {
   "cell_type": "code",
   "execution_count": 40,
   "metadata": {},
   "outputs": [
    {
     "name": "stdout",
     "output_type": "stream",
     "text": [
      "['life', 'is', 'too', 'short']\n"
     ]
    }
   ],
   "source": [
    "# findall 정규식과 매치에서 리스트로 돌려준다\n",
    "p = re.compile('[a-z]+')\n",
    "m = p.findall('life is too short')\n",
    "print(m)"
   ]
  },
  {
   "cell_type": "code",
   "execution_count": 44,
   "metadata": {},
   "outputs": [
    {
     "name": "stdout",
     "output_type": "stream",
     "text": [
      "<callable_iterator object at 0x0000022EF2B4C3C8>\n",
      "<re.Match object; span=(0, 4), match='life'>\n",
      "<re.Match object; span=(5, 7), match='is'>\n",
      "<re.Match object; span=(8, 11), match='too'>\n",
      "<re.Match object; span=(12, 16), match='long'>\n"
     ]
    }
   ],
   "source": [
    "# finditer는 객체로 돌려준다\n",
    "p = re.compile('[a-z]+')\n",
    "m = p.finditer('life is too long')\n",
    "print(m)\n",
    "\n",
    "for x in m: print(x)"
   ]
  },
  {
   "cell_type": "code",
   "execution_count": 51,
   "metadata": {},
   "outputs": [
    {
     "data": {
      "text/plain": [
       "(2, 8)"
      ]
     },
     "execution_count": 51,
     "metadata": {},
     "output_type": "execute_result"
    }
   ],
   "source": [
    "# match, search 객체의 메서트(group, start, end, span)\n",
    "p = re.compile('[a-z]+')\n",
    "m = p.search('3 python')\n",
    "#m.group()\n",
    "#m.start()\n",
    "#m.end()\n",
    "m.span()"
   ]
  },
  {
   "cell_type": "code",
   "execution_count": 65,
   "metadata": {},
   "outputs": [
    {
     "name": "stdout",
     "output_type": "stream",
     "text": [
      "a\n",
      "b\n"
     ]
    }
   ],
   "source": [
    "# 컴파일 옵션\n",
    "# DOTALL(S)\n",
    "#. 메타 문자는 줄바꿈 문자(\\n)를 제외한 모든 문자와 매치되는 규칙이 있다. \n",
    "#만약 \\n 문자도 포함하여 매치하고 싶다면 re.DOTALL 또는 re.S 옵션을 사용해 정규식을 컴파일\n",
    "p = re.compile('a.b', re.S)\n",
    "m = p.match('a\\nb')\n",
    "print(m.group())"
   ]
  },
  {
   "cell_type": "code",
   "execution_count": 72,
   "metadata": {},
   "outputs": [
    {
     "name": "stdout",
     "output_type": "stream",
     "text": [
      "<re.Match object; span=(0, 6), match='Python'>\n"
     ]
    }
   ],
   "source": [
    "# IGNORECASE(I)\n",
    "# 대소문자 구별 없이 매치를 수행할 때 사용하는 옵션\n",
    "p = re.compile('[a-z]+', re.I)\n",
    "m = p.match('Python')\n",
    "#m = p.match('python')\n",
    "#m = p.match('PYHTON')\n",
    "print(m)"
   ]
  },
  {
   "cell_type": "code",
   "execution_count": 102,
   "metadata": {},
   "outputs": [
    {
     "name": "stdout",
     "output_type": "stream",
     "text": [
      "[]\n"
     ]
    }
   ],
   "source": [
    "#MULTILINE(M)\n",
    "# ^는 처음에 $는마지막에\n",
    "# 여러줄을 쓸때 다 검색할수 있게함 (^,$ 메타문자를 각줄마다 적용해 주게함)\n",
    "p = re.compile('^python\\s\\w+',re.M)\n",
    "data = '''\n",
    "python one life is too short\n",
    "python two youu need python python three\n",
    "'''\n",
    "print(p.findall(data))"
   ]
  },
  {
   "cell_type": "code",
   "execution_count": 79,
   "metadata": {},
   "outputs": [],
   "source": [
    "#VERBOSE(X)\n",
    "#이해하기 어려운 정규식을 주석 또는 줄 단위로 구분\n",
    "p = re.compile(r'&[#](0[0-7]+|[0-9]+|x[0-9a-fA-F]+);')\n",
    "p = re.compile(r\"\"\"\n",
    " &[#]                # Start of a numeric entity reference\n",
    " (\n",
    "     0[0-7]+         # Octal form\n",
    "   | [0-9]+          # Decimal form\n",
    "   | x[0-9a-fA-F]+   # Hexadecimal form\n",
    " )\n",
    " ;                   # Trailing semicolon\n",
    "\"\"\", re.VERBOSE)"
   ]
  },
  {
   "cell_type": "code",
   "execution_count": 87,
   "metadata": {},
   "outputs": [
    {
     "name": "stdout",
     "output_type": "stream",
     "text": [
      "\\section\n"
     ]
    }
   ],
   "source": [
    "#백슬래시 문제\n",
    "# 예) \\section\n",
    "# \\s를 이스캐이프 하기위해 \\ 추가\n",
    "# 파이썬 리터럴 규칙에 의해 \\\\->\\변경 이걸 이스캐이프하기위한 \\\\\\\\ 4번씀\n",
    "\n",
    "p = re.compile('\\\\\\\\section')\n",
    "m = p.search('\\section')\n",
    "print(m.group())"
   ]
  },
  {
   "cell_type": "code",
   "execution_count": 88,
   "metadata": {},
   "outputs": [
    {
     "data": {
      "text/plain": [
       "<re.Match object; span=(0, 8), match='\\\\section'>"
      ]
     },
     "execution_count": 88,
     "metadata": {},
     "output_type": "execute_result"
    }
   ],
   "source": [
    "#위에 백슬래시 문제가 너무 복잡하다 그래서 등장한게 'r'\n",
    "p =re.compile(r'\\\\section')\n",
    "m = p.search('\\section')\n",
    "m"
   ]
  },
  {
   "cell_type": "markdown",
   "metadata": {},
   "source": [
    "# 메타문자\n"
   ]
  },
  {
   "cell_type": "code",
   "execution_count": 95,
   "metadata": {},
   "outputs": [
    {
     "data": {
      "text/plain": [
       "'hello'"
      ]
     },
     "execution_count": 95,
     "metadata": {},
     "output_type": "execute_result"
    }
   ],
   "source": [
    "# or 과 동일한 의미로 A|B라는 정규식\n",
    "p = re.compile('sunm|hello')\n",
    "m = p.search('sunhello')\n",
    "m.group()"
   ]
  },
  {
   "cell_type": "code",
   "execution_count": 97,
   "metadata": {},
   "outputs": [
    {
     "name": "stdout",
     "output_type": "stream",
     "text": [
      "<re.Match object; span=(0, 4), match='life'>\n",
      "<re.Match object; span=(12, 17), match='short'>\n"
     ]
    }
   ],
   "source": [
    "# 처음과 끝을 나타내는 메타문자 ^(처음),$(끝)\n",
    "p = re.compile('^life')\n",
    "l = re.compile('short$')\n",
    "\n",
    "print(p.search('life is too short'))\n",
    "print(l.search('life is too short'))"
   ]
  },
  {
   "cell_type": "code",
   "execution_count": 106,
   "metadata": {},
   "outputs": [
    {
     "data": {
      "text/plain": [
       "<re.Match object; span=(3, 8), match='class'>"
      ]
     },
     "execution_count": 106,
     "metadata": {},
     "output_type": "execute_result"
    }
   ],
   "source": [
    "# \\b\n",
    "# 단어 구분자 (word boundary)\n",
    "# raw string임을 알려주는 r을 반드시 붙여 주어야 한다.\n",
    "p = re.compile(r'\\bclass\\b')\n",
    "m = p.search('no class today')\n",
    "m\n",
    "#n = p.search('no classes today')\n",
    "#n\n"
   ]
  },
  {
   "cell_type": "code",
   "execution_count": 108,
   "metadata": {},
   "outputs": [
    {
     "name": "stdout",
     "output_type": "stream",
     "text": [
      "None\n",
      "<re.Match object; span=(5, 10), match='class'>\n"
     ]
    }
   ],
   "source": [
    "#B\n",
    "# \\b 메타 문자와 반대의 경우이다. 즉 whitespace로 구분된 단어가 아닌 경우\n",
    "\n",
    "p = re.compile(r'\\Bclass\\B')\n",
    "print(p.search('no class at all'))\n",
    "print(p.search('one 2classes all'))"
   ]
  },
  {
   "cell_type": "code",
   "execution_count": null,
   "metadata": {},
   "outputs": [],
   "source": []
  }
 ],
 "metadata": {
  "kernelspec": {
   "display_name": "Python 3",
   "language": "python",
   "name": "python3"
  },
  "language_info": {
   "codemirror_mode": {
    "name": "ipython",
    "version": 3
   },
   "file_extension": ".py",
   "mimetype": "text/x-python",
   "name": "python",
   "nbconvert_exporter": "python",
   "pygments_lexer": "ipython3",
   "version": "3.7.6"
  }
 },
 "nbformat": 4,
 "nbformat_minor": 4
}
