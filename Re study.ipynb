{
 "cells": [
  {
   "cell_type": "code",
   "execution_count": 1,
   "metadata": {},
   "outputs": [],
   "source": [
    "import re"
   ]
  },
  {
   "cell_type": "code",
   "execution_count": 3,
   "metadata": {},
   "outputs": [
    {
     "name": "stdout",
     "output_type": "stream",
     "text": [
      "<re.Match object; span=(0, 6), match='python'>\n"
     ]
    }
   ],
   "source": [
    "# match 는 문자열 처음부터 정규식과 매치되는지 조사한다\n",
    "p = re.compile('[a-z]+')\n",
    "m = p.match('python')\n",
    "print(m)"
   ]
  },
  {
   "cell_type": "code",
   "execution_count": 4,
   "metadata": {},
   "outputs": [
    {
     "name": "stdout",
     "output_type": "stream",
     "text": [
      "None\n"
     ]
    }
   ],
   "source": [
    "p = re.compile('[a-z]+')\n",
    "m = p.match('3python')\n",
    "print(m)"
   ]
  },
  {
   "cell_type": "code",
   "execution_count": 5,
   "metadata": {},
   "outputs": [
    {
     "name": "stdout",
     "output_type": "stream",
     "text": [
      "<re.Match object; span=(2, 8), match='python'>\n"
     ]
    }
   ],
   "source": [
    "# search는 첫문자는 3이지만 처음부터 검색하는것이 아니라 문자열 전체를 검색하기 때문에 \n",
    "# 3이후 python과 매치된다.\n",
    "p = re.compile('[a-z]+')\n",
    "m = p.search('3 python')\n",
    "print(m)"
   ]
  },
  {
   "cell_type": "code",
   "execution_count": 6,
   "metadata": {},
   "outputs": [
    {
     "name": "stdout",
     "output_type": "stream",
     "text": [
      "['life', 'is', 'too', 'short']\n"
     ]
    }
   ],
   "source": [
    "# findall 정규식과 매치에서 리스트로 돌려준다\n",
    "p = re.compile('[a-z]+')\n",
    "m = p.findall('life is too short')\n",
    "print(m)"
   ]
  },
  {
   "cell_type": "code",
   "execution_count": 7,
   "metadata": {},
   "outputs": [
    {
     "name": "stdout",
     "output_type": "stream",
     "text": [
      "<callable_iterator object at 0x00000182B3527408>\n",
      "<re.Match object; span=(0, 4), match='life'>\n",
      "<re.Match object; span=(5, 7), match='is'>\n",
      "<re.Match object; span=(8, 11), match='too'>\n",
      "<re.Match object; span=(12, 16), match='long'>\n"
     ]
    }
   ],
   "source": [
    "# finditer는 객체로 돌려준다\n",
    "p = re.compile('[a-z]+')\n",
    "m = p.finditer('life is too long')\n",
    "print(m)\n",
    "\n",
    "for x in m: print(x)"
   ]
  },
  {
   "cell_type": "code",
   "execution_count": 8,
   "metadata": {},
   "outputs": [
    {
     "data": {
      "text/plain": [
       "(2, 8)"
      ]
     },
     "execution_count": 8,
     "metadata": {},
     "output_type": "execute_result"
    }
   ],
   "source": [
    "# match, search 객체의 메서트(group, start, end, span)\n",
    "p = re.compile('[a-z]+')\n",
    "m = p.search('3 python')\n",
    "#m.group()\n",
    "#m.start()\n",
    "#m.end()\n",
    "m.span()"
   ]
  },
  {
   "cell_type": "code",
   "execution_count": 9,
   "metadata": {},
   "outputs": [
    {
     "name": "stdout",
     "output_type": "stream",
     "text": [
      "a\n",
      "b\n"
     ]
    }
   ],
   "source": [
    "# 컴파일 옵션\n",
    "# DOTALL(S)\n",
    "#. 메타 문자는 줄바꿈 문자(\\n)를 제외한 모든 문자와 매치되는 규칙이 있다. \n",
    "#만약 \\n 문자도 포함하여 매치하고 싶다면 re.DOTALL 또는 re.S 옵션을 사용해 정규식을 컴파일\n",
    "p = re.compile('a.b', re.S)\n",
    "m = p.match('a\\nb')\n",
    "print(m.group())"
   ]
  },
  {
   "cell_type": "code",
   "execution_count": 11,
   "metadata": {},
   "outputs": [
    {
     "name": "stdout",
     "output_type": "stream",
     "text": [
      "<re.Match object; span=(0, 6), match='PYHTON'>\n"
     ]
    }
   ],
   "source": [
    "# IGNORECASE(I)\n",
    "# 대소문자 구별 없이 매치를 수행할 때 사용하는 옵션\n",
    "p = re.compile('[a-z]+', re.I)\n",
    "m = p.match('Python')\n",
    "#m = p.match('python')\n",
    "m = p.match('PYHTON')\n",
    "print(m)"
   ]
  },
  {
   "cell_type": "code",
   "execution_count": 12,
   "metadata": {},
   "outputs": [
    {
     "name": "stdout",
     "output_type": "stream",
     "text": [
      "['python one', 'python two']\n"
     ]
    }
   ],
   "source": [
    "#MULTILINE(M)\n",
    "# ^는 처음에 $는마지막에\n",
    "# 여러줄을 쓸때 다 검색할수 있게함 (^,$ 메타문자를 각줄마다 적용해 주게함)\n",
    "p = re.compile('^python\\s\\w+',re.M)\n",
    "data = '''\n",
    "python one life is too short\n",
    "python two youu need python python three\n",
    "'''\n",
    "print(p.findall(data))"
   ]
  },
  {
   "cell_type": "code",
   "execution_count": 13,
   "metadata": {},
   "outputs": [],
   "source": [
    "#VERBOSE(X)\n",
    "#이해하기 어려운 정규식을 주석 또는 줄 단위로 구분\n",
    "p = re.compile(r'&[#](0[0-7]+|[0-9]+|x[0-9a-fA-F]+);')\n",
    "p = re.compile(r\"\"\"\n",
    " &[#]                # Start of a numeric entity reference\n",
    " (\n",
    "     0[0-7]+         # Octal form\n",
    "   | [0-9]+          # Decimal form\n",
    "   | x[0-9a-fA-F]+   # Hexadecimal form\n",
    " )\n",
    " ;                   # Trailing semicolon\n",
    "\"\"\", re.VERBOSE)"
   ]
  },
  {
   "cell_type": "code",
   "execution_count": 14,
   "metadata": {},
   "outputs": [
    {
     "name": "stdout",
     "output_type": "stream",
     "text": [
      "\\section\n"
     ]
    }
   ],
   "source": [
    "#백슬래시 문제\n",
    "# 예) \\section\n",
    "# \\s를 이스캐이프 하기위해 \\ 추가\n",
    "# 파이썬 리터럴 규칙에 의해 \\\\->\\변경 이걸 이스캐이프하기위한 \\\\\\\\ 4번씀\n",
    "\n",
    "p = re.compile('\\\\\\\\section')\n",
    "m = p.search('\\section')\n",
    "print(m.group())"
   ]
  },
  {
   "cell_type": "code",
   "execution_count": 15,
   "metadata": {},
   "outputs": [
    {
     "data": {
      "text/plain": [
       "<re.Match object; span=(0, 8), match='\\\\section'>"
      ]
     },
     "execution_count": 15,
     "metadata": {},
     "output_type": "execute_result"
    }
   ],
   "source": [
    "#위에 백슬래시 문제가 너무 복잡하다 그래서 등장한게 'r'\n",
    "p =re.compile(r'\\\\section')\n",
    "m = p.search('\\section')\n",
    "m"
   ]
  },
  {
   "cell_type": "markdown",
   "metadata": {},
   "source": [
    "# 메타문자\n"
   ]
  },
  {
   "cell_type": "code",
   "execution_count": 16,
   "metadata": {},
   "outputs": [
    {
     "data": {
      "text/plain": [
       "'hello'"
      ]
     },
     "execution_count": 16,
     "metadata": {},
     "output_type": "execute_result"
    }
   ],
   "source": [
    "# or 과 동일한 의미로 A|B라는 정규식\n",
    "p = re.compile('sunm|hello')\n",
    "m = p.search('sunhello')\n",
    "m.group()"
   ]
  },
  {
   "cell_type": "code",
   "execution_count": 17,
   "metadata": {},
   "outputs": [
    {
     "name": "stdout",
     "output_type": "stream",
     "text": [
      "<re.Match object; span=(0, 4), match='life'>\n",
      "<re.Match object; span=(12, 17), match='short'>\n"
     ]
    }
   ],
   "source": [
    "# 처음과 끝을 나타내는 메타문자 ^(처음),$(끝)\n",
    "p = re.compile('^life')\n",
    "l = re.compile('short$')\n",
    "\n",
    "print(p.search('life is too short'))\n",
    "print(l.search('life is too short'))"
   ]
  },
  {
   "cell_type": "code",
   "execution_count": 22,
   "metadata": {},
   "outputs": [
    {
     "data": {
      "text/plain": [
       "<re.Match object; span=(3, 8), match='class'>"
      ]
     },
     "execution_count": 22,
     "metadata": {},
     "output_type": "execute_result"
    }
   ],
   "source": [
    "# \\b\n",
    "# 단어 구분자 (word boundary)\n",
    "# raw string임을 알려주는 r을 반드시 붙여 주어야 한다. 보통 white space\n",
    "p = re.compile(r'\\bclass\\b')\n",
    "m = p.search('no class today')\n",
    "m\n",
    "#n = p.search('no classes today')\n",
    "#n\n"
   ]
  },
  {
   "cell_type": "code",
   "execution_count": 23,
   "metadata": {},
   "outputs": [
    {
     "name": "stdout",
     "output_type": "stream",
     "text": [
      "None\n",
      "<re.Match object; span=(5, 10), match='class'>\n"
     ]
    }
   ],
   "source": [
    "#B\n",
    "# \\b 메타 문자와 반대의 경우이다. 즉 whitespace로 구분된 단어가 아닌 경우\n",
    "\n",
    "p = re.compile(r'\\Bclass\\B')\n",
    "print(p.search('no class at all'))\n",
    "print(p.search('one 2classes all'))"
   ]
  },
  {
   "cell_type": "code",
   "execution_count": 27,
   "metadata": {},
   "outputs": [
    {
     "name": "stdout",
     "output_type": "stream",
     "text": [
      "<re.Match object; span=(0, 9), match='ABCABCABC'>\n",
      "<re.Match object; span=(0, 9), match='abcabcabc'>\n"
     ]
    }
   ],
   "source": [
    "# 그루핑\n",
    "# 문자열이 계속해서 반복되는지 조사하는 정규식\n",
    "\n",
    "p = re.compile('(ABC)+', re.I)\n",
    "m = p.search('ABCABCABC OK?')\n",
    "n = p.search('abcabcabc ok?')\n",
    "print(m)\n",
    "print(n)"
   ]
  },
  {
   "cell_type": "code",
   "execution_count": 33,
   "metadata": {},
   "outputs": [
    {
     "name": "stdout",
     "output_type": "stream",
     "text": [
      "010-9330-0331\n"
     ]
    }
   ],
   "source": [
    "# * 매치된 문자열 중에서 특정 부분의 문자열만 뽑아내기 위해 사용한다\n",
    "# 이름 + 전화번호에서 전화번호만 뽑아내보자\n",
    "# Yoo 010-9330-0331\n",
    "p = re.compile(r'(\\w+)\\s(\\d+[-]\\d+[-]\\d+)')\n",
    "id_card = p.search('Yoo 010-9330-0331')\n",
    "print(id_card.group(2))"
   ]
  },
  {
   "cell_type": "code",
   "execution_count": 47,
   "metadata": {},
   "outputs": [
    {
     "data": {
      "text/plain": [
       "'the the'"
      ]
     },
     "execution_count": 47,
     "metadata": {},
     "output_type": "execute_result"
    }
   ],
   "source": [
    "# 그루핑된 문자열 재참조하기\n",
    "p = re.compile(r'(\\b\\w+)\\s+\\1')\n",
    "p.search('Paris in the the spring spring s').group()"
   ]
  },
  {
   "cell_type": "code",
   "execution_count": 49,
   "metadata": {},
   "outputs": [
    {
     "data": {
      "text/plain": [
       "'Yoo'"
      ]
     },
     "execution_count": 49,
     "metadata": {},
     "output_type": "execute_result"
    }
   ],
   "source": [
    "# 그루핑된 문자열에 이름붙이기\n",
    "# (?P<그룹명>)\n",
    "p = re.compile(r'(?P<name>\\w+)\\s(\\d+[-]\\d+[-]\\d+)')\n",
    "id_card = p.search('Yoo 010-9330-0331')\n",
    "id_card.group('name')"
   ]
  },
  {
   "cell_type": "code",
   "execution_count": 50,
   "metadata": {},
   "outputs": [
    {
     "name": "stdout",
     "output_type": "stream",
     "text": [
      "<re.Match object; span=(0, 5), match='http:'>\n"
     ]
    }
   ],
   "source": [
    "#전방탐색\n",
    "# http://google.com\n",
    "p = re.compile('.+:')\n",
    "address = p.search('http://google.com')\n",
    "print(address)\n",
    "\n",
    "#여기에서 http: 가 아닌 http만 돌려받고 싶을때!"
   ]
  },
  {
   "cell_type": "code",
   "execution_count": 54,
   "metadata": {},
   "outputs": [
    {
     "name": "stdout",
     "output_type": "stream",
     "text": [
      "<re.Match object; span=(0, 4), match='http'>\n"
     ]
    }
   ],
   "source": [
    "# 긍정형 전방탐색 (?=...) : 탐색은 하되~~~~ 결과에는 내보내지마!\n",
    "#기존 정규식과 검색에서는 동일한 효과를 발휘하지만 : 에 해당하는 문자열이 정규식 엔진에 의해 \n",
    "#소비되지 않아(검색에는 포함되지만 검색 결과에는 제외됨) 검색 결과에서는 :이 제거된 후 돌려주는 효과\n",
    "p = re.compile(r'.+(?=:)')\n",
    "address = p.search('http://google.com')\n",
    "print(address)"
   ]
  },
  {
   "cell_type": "code",
   "execution_count": 66,
   "metadata": {},
   "outputs": [
    {
     "ename": "AttributeError",
     "evalue": "'NoneType' object has no attribute 'group'",
     "output_type": "error",
     "traceback": [
      "\u001b[1;31m---------------------------------------------------------------------------\u001b[0m",
      "\u001b[1;31mAttributeError\u001b[0m                            Traceback (most recent call last)",
      "\u001b[1;32m<ipython-input-66-ba3b39e9f7b5>\u001b[0m in \u001b[0;36m<module>\u001b[1;34m\u001b[0m\n\u001b[0;32m      5\u001b[0m \u001b[0mp\u001b[0m \u001b[1;33m=\u001b[0m \u001b[0mre\u001b[0m\u001b[1;33m.\u001b[0m\u001b[0mcompile\u001b[0m\u001b[1;33m(\u001b[0m\u001b[1;34m'.*[.](?!bat$|exe$).*$'\u001b[0m\u001b[1;33m)\u001b[0m\u001b[1;33m\u001b[0m\u001b[1;33m\u001b[0m\u001b[0m\n\u001b[0;32m      6\u001b[0m \u001b[0mm\u001b[0m \u001b[1;33m=\u001b[0m \u001b[0mp\u001b[0m\u001b[1;33m.\u001b[0m\u001b[0msearch\u001b[0m\u001b[1;33m(\u001b[0m\u001b[1;34m'ooo.exe'\u001b[0m\u001b[1;33m)\u001b[0m\u001b[1;33m\u001b[0m\u001b[1;33m\u001b[0m\u001b[0m\n\u001b[1;32m----> 7\u001b[1;33m \u001b[0mprint\u001b[0m\u001b[1;33m(\u001b[0m\u001b[0mm\u001b[0m\u001b[1;33m.\u001b[0m\u001b[0mgroup\u001b[0m\u001b[1;33m(\u001b[0m\u001b[1;33m)\u001b[0m\u001b[1;33m)\u001b[0m\u001b[1;33m\u001b[0m\u001b[1;33m\u001b[0m\u001b[0m\n\u001b[0m\u001b[0;32m      8\u001b[0m \u001b[1;33m\u001b[0m\u001b[0m\n",
      "\u001b[1;31mAttributeError\u001b[0m: 'NoneType' object has no attribute 'group'"
     ]
    }
   ],
   "source": [
    "# 부정형 전방탐색(?!...) : 특정항목만 빼고~~~탐색해~!\n",
    "# 예제 ) foo.bar, autoexec.bat, sendmail.cf ooo.exe\n",
    "# 위에 예제에서 .bat와 .exe만 제외한 것만 찾고싶다!\n",
    "\n",
    "p = re.compile('.*[.](?!bat$|exe$).*$')\n",
    "m = p.search('ooo.exe')\n",
    "print(m.group())\n",
    "\n"
   ]
  },
  {
   "cell_type": "code",
   "execution_count": 68,
   "metadata": {},
   "outputs": [
    {
     "data": {
      "text/plain": [
       "'color socks and color shoes'"
      ]
     },
     "execution_count": 68,
     "metadata": {},
     "output_type": "execute_result"
    }
   ],
   "source": [
    "# 문자열 바꾸기(sub)\n",
    "# sub 메서드를 사용하면 정규식과 매치되는 부분을 다른 문자로 쉽게 바꿀 수 있다.\n",
    "p = re.compile(r'blue|white|red')\n",
    "n = p.sub('color','blue socks and red shoes')\n",
    "n"
   ]
  },
  {
   "cell_type": "code",
   "execution_count": 85,
   "metadata": {},
   "outputs": [
    {
     "name": "stdout",
     "output_type": "stream",
     "text": [
      "010-9330-0331 Yoo\n",
      "010-1234-1234 park\n"
     ]
    }
   ],
   "source": [
    "# sub 메서드 사용시 참조 구문 사용하기 (?P<> , \\g 사용하기)\n",
    "p = re.compile(r'(?P<name>\\w+)\\s+(?P<phone>(\\d+)[-]\\d+[-]\\d+)')\n",
    "print(p.sub('\\g<phone> \\g<name>','Yoo 010-9330-0331'))\n",
    "print(p.sub(\"\\g<phone> \\g<name>\", \"park 010-1234-1234\"))"
   ]
  },
  {
   "cell_type": "code",
   "execution_count": null,
   "metadata": {},
   "outputs": [],
   "source": []
  }
 ],
 "metadata": {
  "kernelspec": {
   "display_name": "Python 3",
   "language": "python",
   "name": "python3"
  },
  "language_info": {
   "codemirror_mode": {
    "name": "ipython",
    "version": 3
   },
   "file_extension": ".py",
   "mimetype": "text/x-python",
   "name": "python",
   "nbconvert_exporter": "python",
   "pygments_lexer": "ipython3",
   "version": "3.7.6"
  }
 },
 "nbformat": 4,
 "nbformat_minor": 4
}
